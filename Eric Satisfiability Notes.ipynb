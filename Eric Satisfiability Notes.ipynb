{
 "cells": [
  {
   "cell_type": "markdown",
   "metadata": {},
   "source": [
    "# Satisfiability Thoughts\n",
    "\n",
    "Some notes on posing a satifiability problem to find a suitable location for a LR given a list of features:\n",
    "\n",
    "It might be interesting to pose it as:\n",
    "\n",
    "Given a list of features, find a location for the LR such that:\n",
    "\n",
    "* Objective: Maximize the number of targets that can be measured (sum of integer variables, one for each feature)\n",
    "* Subject to #1: Distance from LR to Feature is between n and m meters (say, n=2, m=6)\n",
    "* Subject to #2: Angle between line of sight and normal of feature is between 0 and m degrees (say, m=60)\n",
    "\n",
    "Start with the following restrictions:\n",
    "\n",
    "* Only allow the LR to move in X and Y (fix Z, Rx,Ry,Rz == 0)\n",
    "* Could even relax the first 'subject to' to be \"LR can be located max 6 meters from 0,0,0 of Car Coordinate system\"\n",
    "\n",
    "\n",
    "And, if the above is taken to it's logical conclusion, I could see this easily morphing into is:\n",
    "\n",
    "Given features all around the car, the above could be the inner loop of a 'greedy' approach to finding a set of LR locations to measure all features on the car. For example, given a list of all features on the car\n",
    "1. Find the location where the maximum number of features can be measured.\n",
    "2. Repeat with the remaining features\n",
    "3. continue...\n",
    "\n",
    "In a sense, that extension is kind of lame, because greedy is not 'optimal', but it would work for 'a feasible solution'"
   ]
  },
  {
   "cell_type": "markdown",
   "metadata": {},
   "source": [
    "# Some Math Examples\n",
    "\n",
    "\n",
    "* The LR's location is represented as a 4x4 matrix as per the report. \n",
    "* But, for simplicity, we can assume that only the Tx and Ty are non-zero, so the matrix will always (for now) be of the form:\n",
    "\\begin{equation*}\n",
    "T_{\\text{MCS to PCS}} = \\begin{bmatrix} \n",
    "1 & 0 & 0 & LR_x \\\\\n",
    "0 & 1 & 0 & LR_y \\\\\n",
    "0 & 0 & 1 & 0 \\\\\n",
    "0   & 0   & 0   & 1\n",
    "\\end{bmatrix}\n",
    "\\end{equation*}\n",
    "\n",
    "With that simple matrix, the Line-of-Sight vector from the LR to a feature, in would be\n",
    "\\begin{equation*}\n",
    "LOS = F - LR\n",
    "\\end{equation*}\n",
    "where $F$ is the xyz location of the feature, and $LR$ is the xyz location of the LR, namely the triple $(LR_x, LR_y, 0)$.\n",
    "\n",
    "If the matrix included rotations, then the equation isn't much harder:\n",
    "\\begin{equation*}\n",
    "LOS = T_{\\text{MCS to PCS}}^{-1} \\cdot F\n",
    "\\end{equation*}\n",
    "\n",
    "where F is the homogenous feature location $(x,y,0,1$).\n",
    "\n",
    "Then, of course, to find angle between, that LOS vector needs to be normalized: \n",
    "\\begin{equation*}\n",
    "LOS = \\frac{LOS}{\\|LOS\\|}\n",
    "\\end{equation*}\n",
    "\n",
    "Then, the angle between the features normal vector (columns 5-7 of the Feature csv file) (also normalized), is .... to be continued.\n",
    "\n"
   ]
  },
  {
   "cell_type": "code",
   "execution_count": null,
   "metadata": {},
   "outputs": [],
   "source": []
  }
 ],
 "metadata": {
  "kernelspec": {
   "display_name": "Julia 0.6.4",
   "language": "julia",
   "name": "julia-0.6"
  },
  "language_info": {
   "file_extension": ".jl",
   "mimetype": "application/julia",
   "name": "julia",
   "version": "0.6.4"
  }
 },
 "nbformat": 4,
 "nbformat_minor": 2
}
