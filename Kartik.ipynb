{
 "cells": [
  {
   "cell_type": "code",
   "execution_count": 1,
   "metadata": {},
   "outputs": [
    {
     "data": {
      "text/plain": [
       "8.881784197001252e-16"
      ]
     },
     "metadata": {},
     "output_type": "display_data"
    },
    {
     "name": "stdout",
     "output_type": "stream",
     "text": [
      "(12146, 3)\n"
     ]
    }
   ],
   "source": [
    "# global constants\n",
    "g_maxAngVel = pi / 2 # move in azimuth or elevation at max rate of 90 deg / sec\n",
    "g_maxScanRate = 1000 # scans points at the rate of 1000 pts/sec\n",
    "\n",
    "# function to convert points from cartesian Part Coordiante System to cartesian Machine Coordinate System \n",
    "# input:  mcs: 4x4 transformation matrix\n",
    "#         pts: nx3 list of points in PCS\n",
    "# output: nx3 list of points in MCS\n",
    "function pcs_to_mcs_xyz(mcs, pts)\n",
    "    # transform all points into LR Cartesian coordinates\n",
    "    # homogenize the pts with a 1\n",
    "    qty = size(pts,1)\n",
    "    tmp = [pts ones(qty,1)]\n",
    "    # multiply by inverse of the LR's location/orientation\n",
    "    ret = inv(mcs) * tmp'\n",
    "    return ret[1:3,:]'\n",
    "end;\n",
    "\n",
    "# function to convert points from cartesian Part Coordiante System to cartesian Machine Coordinate System \n",
    "# input:  mcs: 4x4 transformation matrix\n",
    "#         pts: nx3 list of points in MCS\n",
    "# output: nx3 list of points in PCS\n",
    "function mcs_to_pcs_xyz(mcs, pts)\n",
    "    # transform all points into LR Cartesian coordinates\n",
    "    # homogenize the pts with a 1\n",
    "    qty = size(pts,1)\n",
    "    tmp = [pts ones(qty,1)]\n",
    "    # multiply by inverse of the LR's location/orientation\n",
    "    ret = mcs * tmp'\n",
    "    return ret[1:3,:]'\n",
    "end;\n",
    "\n",
    "# function to convert points from cartesian to spherical\n",
    "# input:  pts: nx3 list of xyz (cartesian) points\n",
    "# output: nx3 list of spherical points (range, theta, phi)\n",
    "function xyz_to_sph(pts)\n",
    "    r = [vecnorm(pts[i,:]) for i=1:size(pts,1)]\n",
    "    r2= [vecnorm(pts[i,1:2]) for i=1:size(pts,1)]\n",
    "    t = atan2.(r2, pts[:,3])\n",
    "    p = atan2.(pts[:,2], pts[:,1])\n",
    "    return [r t p]\n",
    "end;\n",
    "\n",
    "# function to convert points from spherical to cartesian\n",
    "# input:  pts: nx3 list of (r,t,p) (spherical) points\n",
    "# output: nx3 list of cartesian points (xyz)\n",
    "function sph_to_xyz(pts)\n",
    "    # multiply by inverse of the LR's location/orientation\n",
    "    x = pts[:,1] .* sin.(pts[:,2]) .* cos.(pts[:,3]) # rsinθcosϕ\n",
    "    y = pts[:,1] .* sin.(pts[:,2]) .* sin.(pts[:,3]) # rsinθsinϕ\n",
    "    z = pts[:,1] .* cos.(pts[:,2])                   # rcosθ\n",
    "    return [x y z]\n",
    "end;\n",
    "\n",
    "\n",
    "# function to simulate a scan from one spherical coord to another\n",
    "# input: from: spherical coordinate triple (radius, theta, phi) to start from\n",
    "#        to:   spherical coordinate triple (radius, theta, phi) to end at\n",
    "# output: n x 3 list of spherical points\n",
    "function scan_from_to(from, to)\n",
    "    delta = to .- from\n",
    "    time = maximum(abs.(delta[2:3])) / g_maxAngVel\n",
    "    qty = floor(time * g_maxScanRate)\n",
    "    rgs = linspace.(from, to, qty)\n",
    "    return [collect(rgs[1]) collect(rgs[2]) collect(rgs[3])]\n",
    "end\n",
    "\n",
    "# function to simulate a scan through a list of (spherical) points\n",
    "# input:  list of points (spherical) in the order to be visited\n",
    "# output: list of points (spherical) of the simulated scan points\n",
    "function scan_tour(pts)\n",
    "    ret = []\n",
    "    for i = 1:size(pts,1)-1\n",
    "        line = scan_from_to(pts[i,:], pts[i+1,:])\n",
    "        ret = [ret; line]\n",
    "    end\n",
    "    return ret\n",
    "end\n",
    "\n",
    "function test_transforms()\n",
    "    # load the feature file\n",
    "    data = readcsv(\"50_Holes_FrontLeft.csv\");\n",
    "    pts_pcs = convert(Array{Float64, 2}, data[:,2:4]) # feature locations in PCS\n",
    "    lr_tfm = readcsv(\"Location1.csv\") # transformation matrix for LR's position\n",
    "\n",
    "    # convert to spherical\n",
    "    pts_mcs = pcs_to_mcs_xyz(lr_tfm, pts_pcs) # convert feature locations to MCS\n",
    "    pts_lr = xyz_to_sph(pts_mcs) # convert feature locations to spherical\n",
    "\n",
    "    # round trip as a test\n",
    "    pts_mcs_back = sph_to_xyz(pts_lr)\n",
    "    pts_pcs_back = mcs_to_pcs_xyz(lr_tfm, pts_mcs_back)\n",
    "\n",
    "    # points should be the same\n",
    "    diff = pts_pcs - pts_pcs_back\n",
    "    display(maximum(diff))\n",
    "end\n",
    "\n",
    "function test_scan()\n",
    "    # load data.\n",
    "    data = readcsv(\"50_Holes_FrontLeft.csv\");\n",
    "    pts_pcs = convert(Array{Float64, 2}, data[:,2:4]) # feature locations in PCS\n",
    "    lr_tfm = readcsv(\"Location1.csv\") # transformation matrix for LR's position\n",
    "\n",
    "    # shuffle an index vector\n",
    "    idx = Vector(1:size(pts_pcs,1))\n",
    "    rng = MersenneTwister(1234)\n",
    "    idx = shuffle(rng, idx)\n",
    "    \n",
    "    # shuffle input pts and convert them to spherical\n",
    "    sph = xyz_to_sph(pcs_to_mcs_xyz(lr_tfm, pts_pcs[idx,:]))\n",
    "\n",
    "    # generate scan data\n",
    "    scan = scan_tour(sph)\n",
    "    \n",
    "    # back to pcs\n",
    "    scan = mcs_to_pcs_xyz(lr_tfm, sph_to_xyz(scan))\n",
    "    println(size(scan))\n",
    "    \n",
    "    # save\n",
    "    writecsv(\"scan1.csv\", scan)\n",
    "end\n",
    "\n",
    "test_transforms()\n",
    "test_scan()"
   ]
  },
  {
   "cell_type": "code",
   "execution_count": 2,
   "metadata": {},
   "outputs": [],
   "source": [
    "data = readcsv(\"50_Holes_FrontLeft.csv\");\n",
    "pts_pcs = convert(Array{Float64, 2}, data[:,2:4]) # feature locations in PCS\n",
    "lr_tfm = readcsv(\"Location1.csv\") # transformation matrix for LR's position\n",
    "\n",
    "# shuffle an index vector\n",
    "idx = Vector(1:size(pts_pcs,1))\n",
    "rng = MersenneTwister(1234)\n",
    "idx = shuffle(rng, idx)\n",
    "\n",
    "# shuffle input pts and convert them to spherical\n",
    "sph = xyz_to_sph(pcs_to_mcs_xyz(lr_tfm, pts_pcs[idx,:]));"
   ]
  },
  {
   "cell_type": "code",
   "execution_count": 3,
   "metadata": {},
   "outputs": [
    {
     "data": {
      "text/plain": [
       "0.7853981633974483"
      ]
     },
     "execution_count": 3,
     "metadata": {},
     "output_type": "execute_result"
    }
   ],
   "source": [
    "max_vel = pi/4"
   ]
  },
  {
   "cell_type": "code",
   "execution_count": 4,
   "metadata": {},
   "outputs": [
    {
     "data": {
      "text/plain": [
       "51×3 Array{Float64,2}:\n",
       " 2.62107  1.80213  -2.04955\n",
       " 2.64078  1.2668   -2.20451\n",
       " 2.51207  1.73556  -2.43765\n",
       " 2.07666  1.49795  -2.20861\n",
       " 2.05449  1.63709  -2.18245\n",
       " 2.63236  1.27712  -2.20449\n",
       " 2.40443  1.44661  -2.10753\n",
       " 2.48488  1.35118  -2.15744\n",
       " 2.33109  1.27382  -2.26356\n",
       " 2.61359  1.78966  -2.04956\n",
       " 2.65872  1.26153  -2.38886\n",
       " 2.35255  2.08092  -2.46887\n",
       " 2.12386  1.57002  -2.28567\n",
       " ⋮                         \n",
       " 2.14254  1.59942  -2.29792\n",
       " 2.55551  2.02866  -2.55462\n",
       " 2.38126  1.24913  -2.27631\n",
       " 2.09857  1.42692  -2.20658\n",
       " 2.10379  1.68632  -2.16959\n",
       " 3.62157  1.71344  -2.47656\n",
       " 2.2416   1.74533  -2.13543\n",
       " 2.55887  1.77337  -2.06038\n",
       " 2.07729  1.9259   -2.24952\n",
       " 2.38354  1.74833  -2.38786\n",
       " 2.08857  1.98017  -2.28272\n",
       " 2.12791  1.62944  -2.28575"
      ]
     },
     "execution_count": 4,
     "metadata": {},
     "output_type": "execute_result"
    }
   ],
   "source": [
    "sph"
   ]
  },
  {
   "cell_type": "code",
   "execution_count": 5,
   "metadata": {},
   "outputs": [
    {
     "data": {
      "text/latex": [
       "$$ x_{i,j} \\in \\{0,1\\} \\quad\\forall i \\in \\{1,2,\\dots,50,51\\}, j \\in \\{1,2,\\dots,50,51\\} $$"
      ],
      "text/plain": [
       "51×51 Array{JuMP.Variable,2}:\n",
       " x[1,1]   x[1,2]   x[1,3]   x[1,4]   x[1,5]   …  x[1,49]   x[1,50]   x[1,51] \n",
       " x[2,1]   x[2,2]   x[2,3]   x[2,4]   x[2,5]      x[2,49]   x[2,50]   x[2,51] \n",
       " x[3,1]   x[3,2]   x[3,3]   x[3,4]   x[3,5]      x[3,49]   x[3,50]   x[3,51] \n",
       " x[4,1]   x[4,2]   x[4,3]   x[4,4]   x[4,5]      x[4,49]   x[4,50]   x[4,51] \n",
       " x[5,1]   x[5,2]   x[5,3]   x[5,4]   x[5,5]      x[5,49]   x[5,50]   x[5,51] \n",
       " x[6,1]   x[6,2]   x[6,3]   x[6,4]   x[6,5]   …  x[6,49]   x[6,50]   x[6,51] \n",
       " x[7,1]   x[7,2]   x[7,3]   x[7,4]   x[7,5]      x[7,49]   x[7,50]   x[7,51] \n",
       " x[8,1]   x[8,2]   x[8,3]   x[8,4]   x[8,5]      x[8,49]   x[8,50]   x[8,51] \n",
       " x[9,1]   x[9,2]   x[9,3]   x[9,4]   x[9,5]      x[9,49]   x[9,50]   x[9,51] \n",
       " x[10,1]  x[10,2]  x[10,3]  x[10,4]  x[10,5]     x[10,49]  x[10,50]  x[10,51]\n",
       " x[11,1]  x[11,2]  x[11,3]  x[11,4]  x[11,5]  …  x[11,49]  x[11,50]  x[11,51]\n",
       " x[12,1]  x[12,2]  x[12,3]  x[12,4]  x[12,5]     x[12,49]  x[12,50]  x[12,51]\n",
       " x[13,1]  x[13,2]  x[13,3]  x[13,4]  x[13,5]     x[13,49]  x[13,50]  x[13,51]\n",
       " ⋮                                            ⋱                      ⋮       \n",
       " x[40,1]  x[40,2]  x[40,3]  x[40,4]  x[40,5]     x[40,49]  x[40,50]  x[40,51]\n",
       " x[41,1]  x[41,2]  x[41,3]  x[41,4]  x[41,5]  …  x[41,49]  x[41,50]  x[41,51]\n",
       " x[42,1]  x[42,2]  x[42,3]  x[42,4]  x[42,5]     x[42,49]  x[42,50]  x[42,51]\n",
       " x[43,1]  x[43,2]  x[43,3]  x[43,4]  x[43,5]     x[43,49]  x[43,50]  x[43,51]\n",
       " x[44,1]  x[44,2]  x[44,3]  x[44,4]  x[44,5]     x[44,49]  x[44,50]  x[44,51]\n",
       " x[45,1]  x[45,2]  x[45,3]  x[45,4]  x[45,5]     x[45,49]  x[45,50]  x[45,51]\n",
       " x[46,1]  x[46,2]  x[46,3]  x[46,4]  x[46,5]  …  x[46,49]  x[46,50]  x[46,51]\n",
       " x[47,1]  x[47,2]  x[47,3]  x[47,4]  x[47,5]     x[47,49]  x[47,50]  x[47,51]\n",
       " x[48,1]  x[48,2]  x[48,3]  x[48,4]  x[48,5]     x[48,49]  x[48,50]  x[48,51]\n",
       " x[49,1]  x[49,2]  x[49,3]  x[49,4]  x[49,5]     x[49,49]  x[49,50]  x[49,51]\n",
       " x[50,1]  x[50,2]  x[50,3]  x[50,4]  x[50,5]     x[50,49]  x[50,50]  x[50,51]\n",
       " x[51,1]  x[51,2]  x[51,3]  x[51,4]  x[51,5]  …  x[51,49]  x[51,50]  x[51,51]"
      ]
     },
     "execution_count": 5,
     "metadata": {},
     "output_type": "execute_result"
    }
   ],
   "source": [
    "using JuMP, Gurobi\n",
    "using NamedArrays\n",
    "m = Model(solver=GurobiSolver(OutputFlag=0))\n",
    "@variable(m, x[1:51, 1:51], Bin)"
   ]
  },
  {
   "cell_type": "code",
   "execution_count": 6,
   "metadata": {},
   "outputs": [
    {
     "data": {
      "text/plain": [
       "5×3 Array{Float64,2}:\n",
       " 2.62107  1.80213  -2.04955\n",
       " 2.64078  1.2668   -2.20451\n",
       " 2.51207  1.73556  -2.43765\n",
       " 2.07666  1.49795  -2.20861\n",
       " 2.05449  1.63709  -2.18245"
      ]
     },
     "execution_count": 6,
     "metadata": {},
     "output_type": "execute_result"
    }
   ],
   "source": [
    "sph[1:5,:]"
   ]
  },
  {
   "cell_type": "code",
   "execution_count": 7,
   "metadata": {},
   "outputs": [],
   "source": [
    "# each node must be touched\n",
    "for i in 1:51\n",
    "    cons = @constraint(m, sum(x[i,j] for j in 1:51) == 1)\n",
    "end\n",
    "\n",
    "for i in 1:51\n",
    "    cons = @constraint(m, sum(x[j,i] for j in 1:51) == 1)\n",
    "end\n",
    "\n",
    "# no self loops\n",
    "for i in 1:51\n",
    "    cons = @constraint(m, x[i, i] == 0)\n",
    "end"
   ]
  },
  {
   "cell_type": "code",
   "execution_count": 8,
   "metadata": {},
   "outputs": [],
   "source": [
    "@objective(m, Min, sum(max_vel*x[i,j]*(sph[i, 2] - sph[j, 2]) + max_vel*x[i,j]*(sph[i, 3] - sph[j, 3]) for i in 1:51, j in 1:51));"
   ]
  },
  {
   "cell_type": "code",
   "execution_count": 9,
   "metadata": {},
   "outputs": [
    {
     "name": "stdout",
     "output_type": "stream",
     "text": [
      "Academic license - for non-commercial use only\n"
     ]
    },
    {
     "data": {
      "text/plain": [
       ":Optimal"
      ]
     },
     "execution_count": 9,
     "metadata": {},
     "output_type": "execute_result"
    }
   ],
   "source": [
    "solve(m)"
   ]
  },
  {
   "cell_type": "code",
   "execution_count": 10,
   "metadata": {},
   "outputs": [
    {
     "data": {
      "text/html": [
       "-1.1102230246251565e-15"
      ],
      "text/plain": [
       "-1.1102230246251565e-15"
      ]
     },
     "execution_count": 10,
     "metadata": {},
     "output_type": "execute_result"
    }
   ],
   "source": [
    "getobjectivevalue(m)"
   ]
  },
  {
   "cell_type": "code",
   "execution_count": 11,
   "metadata": {},
   "outputs": [
    {
     "data": {
      "text/plain": [
       "51×51 Array{Float64,2}:\n",
       " 0.0  0.0  0.0  0.0  0.0  0.0  0.0  0.0  …  0.0  0.0  0.0  0.0  0.0  0.0  0.0\n",
       " 0.0  0.0  0.0  0.0  0.0  0.0  0.0  0.0     1.0  0.0  0.0  0.0  0.0  0.0  0.0\n",
       " 0.0  0.0  0.0  0.0  0.0  0.0  0.0  0.0     0.0  0.0  0.0  0.0  0.0  0.0  0.0\n",
       " 0.0  0.0  0.0  0.0  0.0  0.0  0.0  0.0     0.0  0.0  0.0  0.0  0.0  1.0  0.0\n",
       " 0.0  0.0  0.0  0.0  0.0  0.0  0.0  0.0     0.0  0.0  0.0  0.0  0.0  0.0  0.0\n",
       " 0.0  0.0  0.0  0.0  0.0  0.0  0.0  0.0  …  0.0  0.0  0.0  0.0  0.0  0.0  0.0\n",
       " 0.0  0.0  0.0  0.0  0.0  0.0  0.0  0.0     0.0  0.0  0.0  0.0  0.0  0.0  0.0\n",
       " 0.0  0.0  0.0  0.0  0.0  0.0  0.0  0.0     0.0  0.0  0.0  0.0  0.0  0.0  0.0\n",
       " 0.0  0.0  0.0  0.0  0.0  0.0  0.0  0.0     0.0  0.0  0.0  0.0  0.0  0.0  0.0\n",
       " 0.0  0.0  0.0  0.0  0.0  1.0  0.0  0.0     0.0  0.0  0.0  0.0  0.0  0.0  0.0\n",
       " 0.0  0.0  0.0  0.0  0.0  0.0  0.0  0.0  …  0.0  0.0  0.0  0.0  0.0  0.0  0.0\n",
       " 1.0  0.0  0.0  0.0  0.0  0.0  0.0  0.0     0.0  0.0  0.0  0.0  0.0  0.0  0.0\n",
       " 0.0  0.0  0.0  0.0  0.0  0.0  0.0  0.0     0.0  0.0  0.0  0.0  0.0  0.0  0.0\n",
       " ⋮                        ⋮              ⋱       ⋮                        ⋮  \n",
       " 0.0  0.0  0.0  0.0  0.0  0.0  0.0  0.0     0.0  0.0  0.0  0.0  0.0  0.0  0.0\n",
       " 0.0  0.0  0.0  0.0  0.0  0.0  0.0  0.0  …  0.0  0.0  0.0  0.0  0.0  0.0  0.0\n",
       " 0.0  0.0  0.0  0.0  0.0  0.0  0.0  0.0     0.0  0.0  0.0  0.0  0.0  0.0  0.0\n",
       " 0.0  0.0  0.0  0.0  0.0  0.0  0.0  0.0     0.0  0.0  0.0  0.0  0.0  0.0  0.0\n",
       " 0.0  0.0  0.0  0.0  0.0  0.0  0.0  0.0     0.0  0.0  0.0  0.0  0.0  0.0  0.0\n",
       " 0.0  0.0  0.0  0.0  0.0  0.0  0.0  0.0     0.0  0.0  0.0  0.0  0.0  0.0  0.0\n",
       " 0.0  0.0  0.0  0.0  0.0  0.0  0.0  0.0  …  0.0  0.0  0.0  0.0  0.0  0.0  0.0\n",
       " 0.0  0.0  0.0  0.0  0.0  0.0  0.0  0.0     0.0  0.0  0.0  1.0  0.0  0.0  0.0\n",
       " 0.0  0.0  0.0  0.0  0.0  0.0  0.0  0.0     0.0  0.0  0.0  0.0  0.0  0.0  0.0\n",
       " 0.0  0.0  0.0  0.0  0.0  0.0  0.0  0.0     0.0  0.0  0.0  0.0  0.0  0.0  0.0\n",
       " 0.0  0.0  0.0  0.0  0.0  0.0  0.0  0.0     0.0  0.0  0.0  0.0  0.0  0.0  0.0\n",
       " 0.0  0.0  0.0  0.0  0.0  0.0  0.0  0.0  …  0.0  0.0  0.0  0.0  0.0  0.0  0.0"
      ]
     },
     "execution_count": 11,
     "metadata": {},
     "output_type": "execute_result"
    }
   ],
   "source": [
    "x_opt = getvalue(x)"
   ]
  },
  {
   "cell_type": "code",
   "execution_count": 19,
   "metadata": {},
   "outputs": [],
   "source": [
    "scanned = []\n",
    "i = 1\n",
    "flag = true\n",
    "while(i<51)\n",
    "    for j in 1:51\n",
    "        if(x_opt[i, j] > 0)\n",
    "            push!(scanned, j)\n",
    "            i += 1\n",
    "            continue\n",
    "        end\n",
    "    end\n",
    "    if length(scanned) > length(unique(scanned))\n",
    "        print(\"Gotcha!\")\n",
    "        break\n",
    "    end\n",
    "end"
   ]
  },
  {
   "cell_type": "code",
   "execution_count": 22,
   "metadata": {},
   "outputs": [
    {
     "data": {
      "text/html": [
       "50"
      ],
      "text/plain": [
       "50"
      ]
     },
     "execution_count": 22,
     "metadata": {},
     "output_type": "execute_result"
    }
   ],
   "source": [
    "length(unique(scanned))"
   ]
  },
  {
   "cell_type": "code",
   "execution_count": 21,
   "metadata": {},
   "outputs": [
    {
     "data": {
      "text/html": [
       "50"
      ],
      "text/plain": [
       "50"
      ]
     },
     "execution_count": 21,
     "metadata": {},
     "output_type": "execute_result"
    }
   ],
   "source": [
    "length(scanned)"
   ]
  },
  {
   "cell_type": "code",
   "execution_count": 23,
   "metadata": {},
   "outputs": [
    {
     "name": "stdout",
     "output_type": "stream",
     "text": [
      "Scan feature 17\n",
      "Scan feature 45\n",
      "Scan feature 30\n",
      "Scan feature 50\n",
      "Scan feature 10\n",
      "Scan feature 21\n",
      "Scan feature 44\n",
      "Scan feature 40\n",
      "Scan feature 27\n",
      "Scan feature 6\n",
      "Scan feature 42\n",
      "Scan feature 1\n",
      "Scan feature 31\n",
      "Scan feature 37\n",
      "Scan feature 41\n",
      "Scan feature 20\n",
      "Scan feature 35\n",
      "Scan feature 16\n",
      "Scan feature 49\n",
      "Scan feature 22\n",
      "Scan feature 4\n",
      "Scan feature 24\n",
      "Scan feature 3\n",
      "Scan feature 47\n",
      "Scan feature 51\n",
      "Scan feature 43\n",
      "Scan feature 26\n",
      "Scan feature 46\n",
      "Scan feature 8\n",
      "Scan feature 5\n",
      "Scan feature 39\n",
      "Scan feature 11\n",
      "Scan feature 29\n",
      "Scan feature 7\n",
      "Scan feature 2\n",
      "Scan feature 12\n",
      "Scan feature 28\n",
      "Scan feature 13\n",
      "Scan feature 19\n",
      "Scan feature 32\n",
      "Scan feature 36\n",
      "Scan feature 25\n",
      "Scan feature 38\n",
      "Scan feature 14\n",
      "Scan feature 23\n",
      "Scan feature 18\n",
      "Scan feature 48\n",
      "Scan feature 9\n",
      "Scan feature 15\n",
      "Scan feature 34\n"
     ]
    }
   ],
   "source": [
    "for j in scanned\n",
    "    println(\"Scan feature $j\")\n",
    "end"
   ]
  },
  {
   "cell_type": "code",
   "execution_count": 29,
   "metadata": {},
   "outputs": [],
   "source": [
    "ordered_features = zeros(51, 3)\n",
    "i = 1\n",
    "for j in scanned\n",
    "    ordered_features[i, :] = sph[j, :]\n",
    "    i += 1\n",
    "end"
   ]
  },
  {
   "cell_type": "code",
   "execution_count": 30,
   "metadata": {},
   "outputs": [
    {
     "data": {
      "text/plain": [
       "51×3 Array{Float64,2}:\n",
       " 2.14786  1.35053  -2.19964\n",
       " 3.62157  1.71344  -2.47656\n",
       " 2.30693  1.28495  -2.25594\n",
       " 2.08857  1.98017  -2.28272\n",
       " 2.61359  1.78966  -2.04956\n",
       " 2.34655  2.075    -2.46657\n",
       " 2.10379  1.68632  -2.16959\n",
       " 2.14254  1.59942  -2.29792\n",
       " 2.07644  1.67674  -2.17795\n",
       " 2.63236  1.27712  -2.20449\n",
       " 2.38126  1.24913  -2.27631\n",
       " 2.62107  1.80213  -2.04955\n",
       " 2.28765  1.28805  -2.24639\n",
       " ⋮                         \n",
       " 2.20346  1.74998  -2.14692\n",
       " 2.21662  1.7806   -2.1468 \n",
       " 2.26232  1.68191  -2.1781 \n",
       " 2.25134  1.30636  -2.23964\n",
       " 2.61918  2.26286  -2.2184 \n",
       " 2.16722  1.85336  -2.19442\n",
       " 2.13695  1.87068  -2.20849\n",
       " 2.07729  1.9259   -2.24952\n",
       " 2.33109  1.27382  -2.26356\n",
       " 2.04919  1.66696  -2.18631\n",
       " 2.64046  1.66894  -2.24316\n",
       " 0.0      0.0       0.0    "
      ]
     },
     "execution_count": 30,
     "metadata": {},
     "output_type": "execute_result"
    }
   ],
   "source": [
    "ordered_features"
   ]
  },
  {
   "cell_type": "code",
   "execution_count": 31,
   "metadata": {},
   "outputs": [
    {
     "name": "stdout",
     "output_type": "stream",
     "text": [
      "(13151, 3)\n"
     ]
    }
   ],
   "source": [
    "# shuffle input pts and convert them to spherical\n",
    "\n",
    "# generate scan data\n",
    "scan = scan_tour(ordered_features)\n",
    "\n",
    "# back to pcs\n",
    "scan = mcs_to_pcs_xyz(lr_tfm, sph_to_xyz(scan))\n",
    "println(size(scan))\n",
    "\n",
    "# save\n",
    "writecsv(\"kartik_scan1.csv\", scan)"
   ]
  },
  {
   "cell_type": "code",
   "execution_count": 32,
   "metadata": {},
   "outputs": [
    {
     "data": {
      "text/plain": [
       "13151×3 Array{Float64,2}:\n",
       " 0.767131  1.30497  1.96929\n",
       " 0.760971  1.30081  1.96737\n",
       " 0.7548    1.29666  1.96543\n",
       " 0.748617  1.29252  1.96347\n",
       " 0.742424  1.28839  1.96149\n",
       " 0.736219  1.28428  1.95949\n",
       " 0.730003  1.28018  1.95747\n",
       " 0.723776  1.2761   1.95542\n",
       " 0.717538  1.27203  1.95336\n",
       " 0.711289  1.26797  1.95128\n",
       " 0.705029  1.26392  1.94917\n",
       " 0.698759  1.25989  1.94704\n",
       " 0.692478  1.25588  1.9449 \n",
       " ⋮                         \n",
       " 2.00026   3.0      1.52035\n",
       " 2.00022   3.0      1.5185 \n",
       " 2.00018   3.0      1.51665\n",
       " 2.00014   3.0      1.5148 \n",
       " 2.00011   3.0      1.51295\n",
       " 2.00008   3.0      1.5111 \n",
       " 2.00005   3.0      1.50925\n",
       " 2.00003   3.0      1.5074 \n",
       " 2.00002   3.0      1.50555\n",
       " 2.00001   3.0      1.5037 \n",
       " 2.0       3.0      1.50185\n",
       " 2.0       3.0      1.5    "
      ]
     },
     "execution_count": 32,
     "metadata": {},
     "output_type": "execute_result"
    }
   ],
   "source": [
    "scan"
   ]
  },
  {
   "cell_type": "code",
   "execution_count": null,
   "metadata": {},
   "outputs": [],
   "source": []
  }
 ],
 "metadata": {
  "kernelspec": {
   "display_name": "Julia 0.6.4",
   "language": "julia",
   "name": "julia-0.6"
  },
  "language_info": {
   "file_extension": ".jl",
   "mimetype": "application/julia",
   "name": "julia",
   "version": "0.6.4"
  }
 },
 "nbformat": 4,
 "nbformat_minor": 2
}
