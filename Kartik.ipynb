{
 "cells": [
  {
   "cell_type": "code",
   "execution_count": 3,
   "metadata": {},
   "outputs": [
    {
     "data": {
      "text/html": [
       "8.881784197001252e-16"
      ],
      "text/plain": [
       "8.881784197001252e-16"
      ]
     },
     "metadata": {},
     "output_type": "display_data"
    },
    {
     "name": "stdout",
     "output_type": "stream",
     "text": [
      "(12146, 3)\n"
     ]
    }
   ],
   "source": [
    "# global constants\n",
    "g_maxAngVel = pi / 2 # move in azimuth or elevation at max rate of 90 deg / sec\n",
    "g_maxScanRate = 1000 # scans points at the rate of 1000 pts/sec\n",
    "\n",
    "# function to convert points from cartesian Part Coordiante System to cartesian Machine Coordinate System \n",
    "# input:  mcs: 4x4 transformation matrix\n",
    "#         pts: nx3 list of points in PCS\n",
    "# output: nx3 list of points in MCS\n",
    "function pcs_to_mcs_xyz(mcs, pts)\n",
    "    # transform all points into LR Cartesian coordinates\n",
    "    # homogenize the pts with a 1\n",
    "    qty = size(pts,1)\n",
    "    tmp = [pts ones(qty,1)]\n",
    "    # multiply by inverse of the LR's location/orientation\n",
    "    ret = inv(mcs) * tmp'\n",
    "    return ret[1:3,:]'\n",
    "end;\n",
    "\n",
    "# function to convert points from cartesian Part Coordiante System to cartesian Machine Coordinate System \n",
    "# input:  mcs: 4x4 transformation matrix\n",
    "#         pts: nx3 list of points in MCS\n",
    "# output: nx3 list of points in PCS\n",
    "function mcs_to_pcs_xyz(mcs, pts)\n",
    "    # transform all points into LR Cartesian coordinates\n",
    "    # homogenize the pts with a 1\n",
    "    qty = size(pts,1)\n",
    "    tmp = [pts ones(qty,1)]\n",
    "    # multiply by inverse of the LR's location/orientation\n",
    "    ret = mcs * tmp'\n",
    "    return ret[1:3,:]'\n",
    "end;\n",
    "\n",
    "# function to convert points from cartesian to spherical\n",
    "# input:  pts: nx3 list of xyz (cartesian) points\n",
    "# output: nx3 list of spherical points (range, theta, phi)\n",
    "function xyz_to_sph(pts)\n",
    "    r = [vecnorm(pts[i,:]) for i=1:size(pts,1)]\n",
    "    r2= [vecnorm(pts[i,1:2]) for i=1:size(pts,1)]\n",
    "    t = atan2.(r2, pts[:,3])\n",
    "    p = atan2.(pts[:,2], pts[:,1])\n",
    "    return [r t p]\n",
    "end;\n",
    "\n",
    "# function to convert points from spherical to cartesian\n",
    "# input:  pts: nx3 list of (r,t,p) (spherical) points\n",
    "# output: nx3 list of cartesian points (xyz)\n",
    "function sph_to_xyz(pts)\n",
    "    # multiply by inverse of the LR's location/orientation\n",
    "    x = pts[:,1] .* sin.(pts[:,2]) .* cos.(pts[:,3]) # rsinθcosϕ\n",
    "    y = pts[:,1] .* sin.(pts[:,2]) .* sin.(pts[:,3]) # rsinθsinϕ\n",
    "    z = pts[:,1] .* cos.(pts[:,2])                   # rcosθ\n",
    "    return [x y z]\n",
    "end;\n",
    "\n",
    "\n",
    "# function to simulate a scan from one spherical coord to another\n",
    "# input: from: spherical coordinate triple (radius, theta, phi) to start from\n",
    "#        to:   spherical coordinate triple (radius, theta, phi) to end at\n",
    "# output: n x 3 list of spherical points\n",
    "function scan_from_to(from, to)\n",
    "    delta = to .- from\n",
    "    time = maximum(abs.(delta[2:3])) / g_maxAngVel\n",
    "    qty = floor(time * g_maxScanRate)\n",
    "    rgs = linspace.(from, to, qty)\n",
    "    return [collect(rgs[1]) collect(rgs[2]) collect(rgs[3])]\n",
    "end\n",
    "\n",
    "# function to simulate a scan through a list of (spherical) points\n",
    "# input:  list of points (spherical) in the order to be visited\n",
    "# output: list of points (spherical) of the simulated scan points\n",
    "function scan_tour(pts)\n",
    "    ret = []\n",
    "    for i = 1:size(pts,1)-1\n",
    "        line = scan_from_to(pts[i,:], pts[i+1,:])\n",
    "        ret = [ret; line]\n",
    "    end\n",
    "    return ret\n",
    "end\n",
    "\n",
    "function test_transforms()\n",
    "    # load the feature file\n",
    "    data = readcsv(\"50_Holes_FrontLeft.csv\");\n",
    "    pts_pcs = convert(Array{Float64, 2}, data[:,2:4]) # feature locations in PCS\n",
    "    lr_tfm = readcsv(\"Location1.csv\") # transformation matrix for LR's position\n",
    "\n",
    "    # convert to spherical\n",
    "    pts_mcs = pcs_to_mcs_xyz(lr_tfm, pts_pcs) # convert feature locations to MCS\n",
    "    pts_lr = xyz_to_sph(pts_mcs) # convert feature locations to spherical\n",
    "\n",
    "    # round trip as a test\n",
    "    pts_mcs_back = sph_to_xyz(pts_lr)\n",
    "    pts_pcs_back = mcs_to_pcs_xyz(lr_tfm, pts_mcs_back)\n",
    "\n",
    "    # points should be the same\n",
    "    diff = pts_pcs - pts_pcs_back\n",
    "    display(maximum(diff))\n",
    "end\n",
    "\n",
    "function test_scan()\n",
    "    # load data.\n",
    "    data = readcsv(\"50_Holes_FrontLeft.csv\");\n",
    "    pts_pcs = convert(Array{Float64, 2}, data[:,2:4]) # feature locations in PCS\n",
    "    lr_tfm = readcsv(\"Location1.csv\") # transformation matrix for LR's position\n",
    "\n",
    "    # shuffle an index vector\n",
    "    idx = Vector(1:size(pts_pcs,1))\n",
    "    rng = MersenneTwister(1234)\n",
    "    idx = shuffle(rng, idx)\n",
    "    \n",
    "    # shuffle input pts and convert them to spherical\n",
    "    sph = xyz_to_sph(pcs_to_mcs_xyz(lr_tfm, pts_pcs[idx,:]))\n",
    "\n",
    "    # generate scan data\n",
    "    scan = scan_tour(sph)\n",
    "    \n",
    "    # back to pcs\n",
    "    scan = mcs_to_pcs_xyz(lr_tfm, sph_to_xyz(scan))\n",
    "    println(size(scan))\n",
    "    \n",
    "    # save\n",
    "    writecsv(\"scan1.csv\", scan)\n",
    "end\n",
    "\n",
    "test_transforms()\n",
    "test_scan()"
   ]
  },
  {
   "cell_type": "code",
   "execution_count": 4,
   "metadata": {},
   "outputs": [],
   "source": [
    "data = readcsv(\"50_Holes_FrontLeft.csv\");\n",
    "pts_pcs = convert(Array{Float64, 2}, data[:,2:4]) # feature locations in PCS\n",
    "lr_tfm = readcsv(\"Location1.csv\") # transformation matrix for LR's position\n",
    "\n",
    "# shuffle an index vector\n",
    "idx = Vector(1:size(pts_pcs,1))\n",
    "rng = MersenneTwister(1234)\n",
    "idx = shuffle(rng, idx)\n",
    "\n",
    "# shuffle input pts and convert them to spherical\n",
    "sph = xyz_to_sph(pcs_to_mcs_xyz(lr_tfm, pts_pcs[idx,:]));"
   ]
  },
  {
   "cell_type": "code",
   "execution_count": 5,
   "metadata": {},
   "outputs": [
    {
     "data": {
      "text/html": [
       "2.678287857426413"
      ],
      "text/plain": [
       "2.678287857426413"
      ]
     },
     "metadata": {},
     "output_type": "display_data"
    },
    {
     "data": {
      "text/plain": [
       "20×20 Array{Float64,2}:\n",
       " -0.0   0.0  -0.0  -0.0  -0.0   0.0  …  -0.0   0.0   0.0   1.0  -0.0   0.0\n",
       "  0.0  -0.0  -0.0  -0.0  -0.0   1.0     -0.0  -0.0  -0.0  -0.0  -0.0   0.0\n",
       " -0.0  -0.0  -0.0  -0.0  -0.0  -0.0     -0.0  -0.0  -0.0   0.0   1.0  -0.0\n",
       " -0.0  -0.0  -0.0  -0.0   1.0  -0.0     -0.0  -0.0  -0.0  -0.0  -0.0   0.0\n",
       " -0.0  -0.0  -0.0  -0.0  -0.0  -0.0      1.0  -0.0  -0.0  -0.0  -0.0  -0.0\n",
       "  0.0  -0.0  -0.0  -0.0  -0.0  -0.0  …  -0.0  -0.0   1.0  -0.0  -0.0   0.0\n",
       " -0.0  -0.0  -0.0   1.0   0.0  -0.0     -0.0  -0.0  -0.0  -0.0  -0.0   0.0\n",
       "  0.0  -0.0  -0.0  -0.0  -0.0  -0.0     -0.0  -0.0  -0.0  -0.0  -0.0   0.0\n",
       "  0.0   1.0  -0.0  -0.0  -0.0  -0.0     -0.0   0.0  -0.0  -0.0  -0.0   0.0\n",
       "  1.0   0.0  -0.0  -0.0  -0.0   0.0     -0.0   0.0   0.0   0.0  -0.0   0.0\n",
       "  0.0  -0.0  -0.0  -0.0  -0.0  -0.0  …  -0.0   1.0  -0.0  -0.0  -0.0   0.0\n",
       "  0.0   0.0   0.0   0.0   0.0   0.0     -0.0   0.0   0.0  -0.0  -0.0   1.0\n",
       " -0.0  -0.0   0.0  -0.0  -0.0  -0.0     -0.0  -0.0  -0.0  -0.0  -0.0  -0.0\n",
       " -0.0   0.0  -0.0  -0.0  -0.0   0.0     -0.0   0.0   0.0  -0.0  -0.0  -0.0\n",
       " -0.0  -0.0  -0.0  -0.0  -0.0  -0.0     -0.0  -0.0   0.0   0.0  -0.0  -0.0\n",
       "  0.0   0.0  -0.0  -0.0  -0.0  -0.0  …  -0.0  -0.0  -0.0  -0.0  -0.0   0.0\n",
       "  0.0   0.0  -0.0  -0.0  -0.0  -0.0     -0.0  -0.0  -0.0  -0.0  -0.0   0.0\n",
       "  0.0  -0.0   0.0  -0.0  -0.0  -0.0     -0.0  -0.0  -0.0  -0.0  -0.0  -0.0\n",
       " -0.0  -0.0  -0.0  -0.0   0.0  -0.0     -0.0  -0.0  -0.0  -0.0  -0.0  -0.0\n",
       "  0.0   0.0   1.0   0.0  -0.0   0.0     -0.0   0.0   0.0  -0.0  -0.0  -0.0"
      ]
     },
     "metadata": {},
     "output_type": "display_data"
    },
    {
     "name": "stdout",
     "output_type": "stream",
     "text": [
      "Academic license - for non-commercial use only\r\n",
      " 15.070769 seconds (1.56 M allocations: 80.850 MiB)\n"
     ]
    }
   ],
   "source": [
    "# Modeling the problem as a TSP\n",
    "max_vel = pi/4 # just a dummy variable for how fast the LP can change azimuth and elevation (Doesn't affect the solution)\n",
    "\n",
    "using JuMP, Gurobi\n",
    "using NamedArrays\n",
    "n = 20 # number of points. 51 may cause my mac to explode.\n",
    "m = Model(solver=GurobiSolver(OutputFlag=0))\n",
    "@variable(m, x[1:n, 1:n], Bin)\n",
    "@variable(m, 1 <= u[1:n] <= n, Int)\n",
    "\n",
    "# each node must be touched\n",
    "for i in 1:n\n",
    "    cons = @constraint(m, sum(x[i,j] for j in 1:n) == 1)\n",
    "end\n",
    "\n",
    "for j in 1:n\n",
    "    cons = @constraint(m, sum(x[i,j] for i in 1:n) == 1)\n",
    "end\n",
    "\n",
    "# no self loops\n",
    "for i in 1:n\n",
    "    cons = @constraint(m, x[i, i] == 0)\n",
    "end\n",
    "\n",
    "# MTZ Constraint\n",
    "for i in 1:n\n",
    "    for j in 2:n\n",
    "        @constraint(m, u[i] - u[j] + n*x[i, j] <= n-1)\n",
    "    end\n",
    "end\n",
    "\n",
    "@objective(m, Min, sum(max_vel*x[i,j]*abs(sph[i, 2] - sph[j, 2])\n",
    "        + max_vel*x[i,j]*abs(sph[i, 3] - sph[j, 3]) for i in 1:n, j in 1:n));\n",
    "\n",
    "@time solve(m)\n",
    "\n",
    "display(getobjectivevalue(m))\n",
    "x_opt = getvalue(x)\n",
    "\n",
    "display(x_opt)"
   ]
  },
  {
   "cell_type": "code",
   "execution_count": 14,
   "metadata": {},
   "outputs": [],
   "source": [
    "scanned = []\n",
    "i = 1\n",
    "count = 1\n",
    "for count in 1:n\n",
    "    for j in 1:n\n",
    "        if(x_opt[i, j] > 0)\n",
    "            push!(scanned, j)\n",
    "            i = j\n",
    "            break\n",
    "        end\n",
    "    end\n",
    "end"
   ]
  },
  {
   "cell_type": "code",
   "execution_count": 15,
   "metadata": {},
   "outputs": [],
   "source": [
    "# subtour check\n",
    "# scanned = []\n",
    "# i = 1\n",
    "# flag = true\n",
    "# while(length(scanned)<n)\n",
    "#     for j in 1:n\n",
    "#         if(x_opt[i, j] > 0)\n",
    "#             push!(scanned, j)\n",
    "#             i = j\n",
    "#             continue\n",
    "#         end\n",
    "#     end\n",
    "#     if length(scanned) > length(unique(scanned))\n",
    "#         print(\"Gotcha!\")\n",
    "#         print(i)\n",
    "#     end\n",
    "# end"
   ]
  },
  {
   "cell_type": "code",
   "execution_count": 16,
   "metadata": {},
   "outputs": [
    {
     "data": {
      "text/html": [
       "20"
      ],
      "text/plain": [
       "20"
      ]
     },
     "execution_count": 16,
     "metadata": {},
     "output_type": "execute_result"
    }
   ],
   "source": [
    "length(unique(scanned))"
   ]
  },
  {
   "cell_type": "code",
   "execution_count": 17,
   "metadata": {},
   "outputs": [
    {
     "data": {
      "text/html": [
       "20"
      ],
      "text/plain": [
       "20"
      ]
     },
     "execution_count": 17,
     "metadata": {},
     "output_type": "execute_result"
    }
   ],
   "source": [
    "length(scanned)"
   ]
  },
  {
   "cell_type": "code",
   "execution_count": 18,
   "metadata": {},
   "outputs": [
    {
     "name": "stdout",
     "output_type": "stream",
     "text": [
      "Scan feature 10\n",
      "Scan feature 15\n",
      "Scan feature 5\n",
      "Scan feature 4\n",
      "Scan feature 7\n",
      "Scan feature 8\n",
      "Scan feature 17\n",
      "Scan feature 6\n",
      "Scan feature 2\n",
      "Scan feature 9\n",
      "Scan feature 11\n",
      "Scan feature 16\n",
      "Scan feature 13\n",
      "Scan feature 19\n",
      "Scan feature 3\n",
      "Scan feature 20\n",
      "Scan feature 12\n",
      "Scan feature 14\n",
      "Scan feature 18\n",
      "Scan feature 1\n"
     ]
    }
   ],
   "source": [
    "for j in scanned\n",
    "    println(\"Scan feature $j\")\n",
    "end"
   ]
  },
  {
   "cell_type": "code",
   "execution_count": 9,
   "metadata": {},
   "outputs": [],
   "source": [
    "ordered_features = zeros(n, 3)\n",
    "i = 1\n",
    "while(i<=n)\n",
    "    j = scanned[i]\n",
    "    ordered_features[i, :] = sph[j, :]\n",
    "    i += 1\n",
    "end"
   ]
  },
  {
   "cell_type": "code",
   "execution_count": 10,
   "metadata": {},
   "outputs": [
    {
     "data": {
      "text/plain": [
       "20×3 Array{Float64,2}:\n",
       " 2.61359  1.78966  -2.04956\n",
       " 2.04919  1.66696  -2.18631\n",
       " 2.05449  1.63709  -2.18245\n",
       " 2.07666  1.49795  -2.20861\n",
       " 2.40443  1.44661  -2.10753\n",
       " 2.48488  1.35118  -2.15744\n",
       " 2.14786  1.35053  -2.19964\n",
       " 2.63236  1.27712  -2.20449\n",
       " 2.64078  1.2668   -2.20451\n",
       " 2.33109  1.27382  -2.26356\n",
       " 2.65872  1.26153  -2.38886\n",
       " 2.546    1.24495  -2.33904\n",
       " 2.12386  1.57002  -2.28567\n",
       " 2.19587  1.59723  -2.31582\n",
       " 2.51207  1.73556  -2.43765\n",
       " 2.47795  2.04658  -2.52153\n",
       " 2.35255  2.08092  -2.46887\n",
       " 2.61918  2.26286  -2.2184 \n",
       " 2.13695  1.87068  -2.20849\n",
       " 2.62107  1.80213  -2.04955"
      ]
     },
     "execution_count": 10,
     "metadata": {},
     "output_type": "execute_result"
    }
   ],
   "source": [
    "ordered_features"
   ]
  },
  {
   "cell_type": "code",
   "execution_count": 11,
   "metadata": {},
   "outputs": [
    {
     "name": "stdout",
     "output_type": "stream",
     "text": [
      "(1596, 3)\n"
     ]
    }
   ],
   "source": [
    "# generate scan data\n",
    "scan = scan_tour(ordered_features)\n",
    "\n",
    "# back to pcs\n",
    "scan = mcs_to_pcs_xyz(lr_tfm, sph_to_xyz(scan))\n",
    "println(size(scan))\n",
    "\n",
    "# save\n",
    "writecsv(\"kartik_scan.csv\", scan)"
   ]
  },
  {
   "cell_type": "code",
   "execution_count": 12,
   "metadata": {},
   "outputs": [
    {
     "data": {
      "text/plain": [
       "1596×3 Array{Float64,2}:\n",
       " 0.824679  0.735608  0.932535\n",
       " 0.823668  0.742447  0.937591\n",
       " 0.82268   0.749292  0.942631\n",
       " 0.821716  0.756142  0.947653\n",
       " 0.820774  0.762998  0.952658\n",
       " 0.819856  0.769859  0.957646\n",
       " 0.81896   0.776725  0.962616\n",
       " 0.818088  0.783597  0.96757 \n",
       " 0.817238  0.790473  0.972506\n",
       " 0.816412  0.797355  0.977425\n",
       " 0.815609  0.804241  0.982326\n",
       " 0.814829  0.811133  0.98721 \n",
       " 0.814073  0.818028  0.992077\n",
       " ⋮                           \n",
       " 0.81212   0.806042  0.892421\n",
       " 0.813177  0.79965   0.892989\n",
       " 0.814252  0.793256  0.893564\n",
       " 0.815344  0.786859  0.894146\n",
       " 0.816454  0.78046   0.894734\n",
       " 0.81758   0.774058  0.895329\n",
       " 0.818724  0.767654  0.895931\n",
       " 0.819884  0.761248  0.89654 \n",
       " 0.821062  0.754839  0.897155\n",
       " 0.822258  0.748429  0.897777\n",
       " 0.82347   0.742016  0.898406\n",
       " 0.8247    0.735601  0.899041"
      ]
     },
     "execution_count": 12,
     "metadata": {},
     "output_type": "execute_result"
    }
   ],
   "source": [
    "scan"
   ]
  },
  {
   "cell_type": "code",
   "execution_count": null,
   "metadata": {},
   "outputs": [],
   "source": []
  }
 ],
 "metadata": {
  "kernelspec": {
   "display_name": "Julia 0.6.4",
   "language": "julia",
   "name": "julia-0.6"
  },
  "language_info": {
   "file_extension": ".jl",
   "mimetype": "application/julia",
   "name": "julia",
   "version": "0.6.4"
  }
 },
 "nbformat": 4,
 "nbformat_minor": 2
}
