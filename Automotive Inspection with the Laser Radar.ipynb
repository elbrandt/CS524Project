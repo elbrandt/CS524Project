{
 "cells": [
  {
   "cell_type": "markdown",
   "metadata": {},
   "source": [
    "### CS/ECE/ISyE 524 &mdash; Introduction to Optimization &mdash; Fall 2018 ###\n",
    "\n",
    "# Automotive Inspection with the Laser Radar #\n",
    "\n",
    "#### Kartik Sreenivasan (email address), Matthew Crepea (email address), Talha Sultan (email address), and Eric Brandt (elbrandt@wisc.edu)\n",
    "\n",
    "### Table of Contents\n",
    "\n",
    "1. [Introduction](#1.-Introduction)\n",
    "1. [Mathematical Model](#2.-Mathematical-model)\n",
    "1. [Solution](#3.-Solution)\n",
    "1. [Results and Discussion](#4.-Results-and-discussion)\n",
    "1. [Optional Subsection](#4.A.-Feel-free-to-add-subsections)\n",
    "1. [Conclusion](#5.-Conclusion)"
   ]
  },
  {
   "cell_type": "code",
   "execution_count": null,
   "metadata": {},
   "outputs": [],
   "source": []
  },
  {
   "cell_type": "markdown",
   "metadata": {},
   "source": [
    "## 1. Introduction ##\n",
    "\n",
    "The [Nikon Laser Radar](https://www.nikonmetrology.com/en-us/product/laser-radar-mv331-351) is a high accuracy, large volume, non-contact, 3D measurement device used in manufacturing that is gaining considerable adoption in the automotive industry for [in-line car body inspection](https://www.youtube.com/watch?v=odIYMRyCFDo). This inspection has traditionally been done with a tactile CMM which is a slow process requiring one-of-every-N cars to be spurred off the main assembly line into a carefully controlled 'measurement room'. Automotive manufacturers [can achieve considerable cost and time savings](http://www.nikonmetrology.com/en-gb/product/laser-radar-shop-floor-cmm) by switching to a robot-mounted laser-based measurement system such as the Laser Radar to inspect *all* part instances in-line, without special 1-of-N measurement followed by generalizing results to the remainder of the unmeasured instances. The laser-based measurement technology is mature, however, this relatively new adoption by the short cycle-time automotive industry has placed new pressure on maximizing the quantity and quality of feature measurements that can be made in short, fixed time windows common in assembly line manufacturing. By applying optimization techniques to the measurement plan and process, we can to increase both the quality and quantity of measurements that can be made in a fixed time window.\n",
    "\n",
    "Automotive engineers routinely specify geometric features that must be inspected on a car when it is in the [Body-In-White](https://en.wikipedia.org/wiki/Body_in_white) phase of manufacturing. Inspection involves measuring the 3D locations and dimensions of 200-300 holes, slots, studs, surfaces, etc relative to fixed locations on the car. The measured location of these features are compared to the nominal locations specified in the CAD drawings. [Statistical process control](https://www.itl.nist.gov/div898/handbook/pmc/section1/pmc12.htm) calculations are performed to evaluate the overal accuracy, precision, reliability, and repeatability of the manufacturing process. The task of scanning each feature and extracting the location of the measured geometry relative to a global ‘car coordinate system’ is well handled by existing software.\n",
    "![Nikon Laser Radar](https://github.com/elbrandt/CS524Project/blob/master/LR_Combo.jpg?raw=true)\n",
    "\n",
    "However, the process of deciding *how* to measure these features using the Laser Radar is a decision largely made by manufacturing engineers using 'rule-of-thumb' techniques based on their experience with robot and tactile CMM programming. Often these engineers have little experience with laser based measurement systems. The opportunity to optimize this scenario lies in several sub-problems:\n",
    "\n",
    "* *Determine the optimal order in which to measure a list of features.* Pointing the measuring laser of the device to each feature location requires moving a mirror in azimuth and elevation, both of which have known velocity and acceleration profiles and limits. The optimization task is: For a given fixed laser radar location relative to the car, find an ordering of a given list of features to be measured that minimizes total measurement time.\n",
    "\n",
    "* *Determine the optimal location at which to locate the Laser Radar.* Each feature type that is measured (hole, slot, stud, etc) has certain line-of-sight geometry characteristics that affect the confidence in the accuracy of the final measurement. For example, stud features achieve best accuracy when the laser’s line of sight has a particular angle relative to the stud’s normal direction. Holes, on the other hand, are most accurate when the laser’s line of sight is closer to the normal direction of the hole. The optimization task is: Given the line-of-sight geometry characteristics for each type of feature geometry, find an optimal placement of the Laser Radar device such that the accuracy of measurement of all n features (of varying types) in a given list is maximized. \n",
    " \n",
    "\n",
    "## 2. Mathematical model ##\n",
    "\n",
    "A discussion of the modeling assumptions made in the problem (e.g. is it from physics? economics? something else?). Explain the decision variables, the constraints, and the objective function. Finally, show the optimization problem written in standard form. Discuss the model type (LP, QP, MIP, etc.). Equations should be formatted in $\\\\LaTeX$ within the IJulia notebook. For this section you may **assume the reader is familiar with the material covered in class**.\n",
    "\n",
    "Here is an example of an equation:\n",
    "\n",
    "$$\\begin{bmatrix}\n",
    "      1 & 2 \\\\\n",
    "       3 & 4\n",
    "    \\end{bmatrix}\n",
    "    \\begin{bmatrix} x \\\\ y \\end{bmatrix} =\n",
    "    \\begin{bmatrix} 5 \\\\ 6 \\end{bmatrix}$$\n",
    "\n",
    "And here is an example of an optimization problem in standard form:\n",
    "$$\\begin{aligned}\n",
    "  \\underset{x \\in \\mathbb{R^n}}{\\text{maximize}}\\qquad& f_0(x) \\\\\n",
    "    \\text{subject to:}\\qquad& f_i(x) \\le 0 && i=1,\\dots,m\\\\\n",
    "    & h_j(x) = 0 && j=1,\\dots,r\n",
    "    \\end{aligned}$$\n",
    "\n",
    "For some quick tips on using $\\LaTeX$, see [this cheat sheet](http://users.dickinson.edu/~richesod/latex/latexcheatsheet.pdf)."
   ]
  },
  {
   "cell_type": "markdown",
   "metadata": {},
   "source": [
    "## 3. Solution ##\n",
    "\n",
    "Here, you should code up your model in Julia + JuMP and solve it. Your code should be clean, easy to read, well annotated and commented, and it should compile! You are not allowed to use other programming languages or DCP packages such as `convex.jl`. **I will be running your code**. I suggest having multiple code blocks separated by text blocks that explain the various parts of your solution. You may also solve several versions of your problem with different models/assumptions.\n",
    "\n",
    "It's fine to call external packages such as `Gurobi`, but try to minimize the use of exotic libraries."
   ]
  },
  {
   "cell_type": "code",
   "execution_count": 1,
   "metadata": {},
   "outputs": [
    {
     "name": "stdout",
     "output_type": "stream",
     "text": [
      "The total number of horses is: 10.0\n",
      "The total number of donkeys is: 0.0\n",
      "The total number of goats is: 0.0\n"
     ]
    }
   ],
   "source": [
    "using JuMP, Clp\n",
    "\n",
    "m = Model(solver = ClpSolver())\n",
    "\n",
    "things = [:horses, :donkeys, :goats]  # these are the things\n",
    "@variable(m, x[things] >= 0)          # the quantities of each of the things (can't be negative)\n",
    "@constraint(m, sum(x) <= 10)          # we can't have any more than 10 things total\n",
    "@objective(m, Max, x[:horses])        # we want to maximize the number of horses\n",
    "solve(m)\n",
    "\n",
    "for i in things\n",
    "    println(\"The total number of \", i, \" is: \", getvalue(x[i]))     # print result\n",
    "end"
   ]
  },
  {
   "cell_type": "markdown",
   "metadata": {},
   "source": [
    "## 4. Results and discussion ##\n",
    "\n",
    "Here, you display and discuss the results. Show figures, plots, images, trade-off curves, or whatever else you can think of to best illustrate your results. The discussion should explain what the results mean, and how to interpret them. You should also explain the limitations of your approach/model and how sensitive your results are to the assumptions you made.\n",
    "\n",
    " Use plots (see `PyPlot` examples from class), or you can display results in a table like this:\n",
    "\n",
    "| Tables        | Are          | Cool  |\n",
    "| ------------- |:-------------| -----:|\n",
    "| col 3 is      |right-aligned |\\$1600 |\n",
    "|  colons       | align columns|  \\$12 |\n",
    "| zebra stripes |    are neat  |   \\$1 |\n",
    "\n",
    "### 4.A. Feel free to add subsections\n",
    "\n",
    "#### 4.A.a. or subsubsections"
   ]
  },
  {
   "cell_type": "markdown",
   "metadata": {},
   "source": [
    "## 5. Conclusion ##\n",
    "\n",
    "Summarize your findings and your results, and talk about at least one possible future direction; something that might be interesting to pursue as a follow-up to your project."
   ]
  },
  {
   "cell_type": "markdown",
   "metadata": {},
   "source": []
  }
 ],
 "metadata": {
  "kernelspec": {
   "display_name": "Julia 0.6.4",
   "language": "julia",
   "name": "julia-0.6"
  },
  "language_info": {
   "file_extension": ".jl",
   "mimetype": "application/julia",
   "name": "julia",
   "version": "0.6.4"
  }
 },
 "nbformat": 4,
 "nbformat_minor": 2
}
